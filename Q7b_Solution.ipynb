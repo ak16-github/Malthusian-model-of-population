{
  "nbformat": 4,
  "nbformat_minor": 0,
  "metadata": {
    "colab": {
      "name": "20i190011_IE614_ICA1_Q7b.ipynb",
      "provenance": [],
      "collapsed_sections": []
    },
    "kernelspec": {
      "name": "python3",
      "display_name": "Python 3"
    }
  },
  "cells": [
    {
      "cell_type": "code",
      "metadata": {
        "id": "9NwGEwo0azan"
      },
      "source": [
        "#import the required packages\n",
        "import numpy as np\n",
        "import matplotlib.pyplot as plt"
      ],
      "execution_count": 45,
      "outputs": []
    },
    {
      "cell_type": "code",
      "metadata": {
        "id": "CTOuPWV0azap"
      },
      "source": [
        "def euler(y_zero, growth_rate, h, final_T):\n",
        "    y_t = y_zero\n",
        "    euler_iters = [] #iterates obtained using Euler Method\n",
        "    #actual_value = []\n",
        "    \n",
        "    t_0 = 2\n",
        "    num_intervals = final_T/h   \n",
        "    for i in range(int(num_intervals)):\n",
        "        euler_iters.append(y_t)\n",
        "        y_t = y_t + h * (1/(t_0**2) - 2*y_t/t_0) \n",
        "        t_0 = t_0 + h\n",
        "\n",
        "    # this modification removes the error.\n",
        "    if h==0.00001:            \n",
        "      euler_iters.append(y_t) \n",
        "\n",
        "    print('euler predicted at t=1: ', y_t)\n",
        "    euler_predicted.append(y_t)\n",
        "\n",
        "    print('actual value at t=1: ', 1/final_T - 14*(1/final_T)**2)\n",
        "    actual_value.append(1/final_T - 14*(1/final_T)**2)\n",
        "\n",
        "    print(\"Error: \", 1/final_T - 14*(1/final_T)**2 - y_t)\n",
        "    error_value.append(1/final_T - 14*(1/final_T)**2 - y_t)\n",
        "\n",
        "    #x and y axes to plot exp curve (Actual)\n",
        "    xx = np.arange(0,final_T,h) # creates an array of t values with increment h\n",
        "    yy = 1/xx - 14*(1/xx)**2 \n",
        "    plt.plot(xx,yy,color='red')\n",
        "    \n",
        "    #plot the Euler method's predicted values\n",
        "    plt.plot(xx,euler_iters,color='blue')\n",
        "    \n",
        "    #other plot related details\n",
        "    plt.xlabel('Time')\n",
        "    plt.ylabel('y_t')\n",
        "    plt.legend(['Actual','Euler'])\n",
        "    plt.show()\n",
        "        \n",
        "    return euler_iters, #actual_value"
      ],
      "execution_count": 46,
      "outputs": []
    },
    {
      "cell_type": "code",
      "metadata": {
        "colab": {
          "base_uri": "https://localhost:8080/",
          "height": 1000
        },
        "id": "FEswPD1Uazaq",
        "outputId": "9f950c48-70c1-4e60-b40a-95af47fcb9a6"
      },
      "source": [
        "y_zero = -4.0\n",
        "growth_rate = 0.9\n",
        "euler_h = [0.1,0.01,0.001,0.0001, 0.00001]\n",
        "final_T = 1.0\n",
        "\n",
        "euler_predicted = []\n",
        "actual_value = []\n",
        "error_value = []\n",
        "\n",
        "for h in euler_h:\n",
        "  euler(y_zero, growth_rate , h, final_T)"
      ],
      "execution_count": 47,
      "outputs": [
        {
          "output_type": "stream",
          "text": [
            "euler predicted at t=1:  -1.5666738194635887\n",
            "actual value at t=1:  -13.0\n",
            "Error:  -11.433326180536412\n"
          ],
          "name": "stdout"
        },
        {
          "output_type": "stream",
          "text": [
            "/usr/local/lib/python3.6/dist-packages/ipykernel_launcher.py:28: RuntimeWarning: divide by zero encountered in true_divide\n",
            "/usr/local/lib/python3.6/dist-packages/ipykernel_launcher.py:28: RuntimeWarning: invalid value encountered in subtract\n"
          ],
          "name": "stderr"
        },
        {
          "output_type": "display_data",
          "data": {
            "image/png": "[encoded data removed]",
            "text/plain": [
              "<Figure size 432x288 with 1 Axes>"
            ]
          },
          "metadata": {
            "tags": [],
            "needs_background": "light"
          }
        },
        {
          "output_type": "stream",
          "text": [
            "euler predicted at t=1:  -1.6570742515306494\n",
            "actual value at t=1:  -13.0\n",
            "Error:  -11.342925748469352\n"
          ],
          "name": "stdout"
        },
        {
          "output_type": "stream",
          "text": [
            "/usr/local/lib/python3.6/dist-packages/ipykernel_launcher.py:28: RuntimeWarning: divide by zero encountered in true_divide\n",
            "/usr/local/lib/python3.6/dist-packages/ipykernel_launcher.py:28: RuntimeWarning: invalid value encountered in subtract\n"
          ],
          "name": "stderr"
        },
        {
          "output_type": "display_data",
          "data": {
            "image/png": "[encoded data removed]",
            "text/plain": [
              "<Figure size 432x288 with 1 Axes>"
            ]
          },
          "metadata": {
            "tags": [],
            "needs_background": "light"
          }
        },
        {
          "output_type": "stream",
          "text": [
            "euler predicted at t=1:  -1.6657112909609764\n",
            "actual value at t=1:  -13.0\n",
            "Error:  -11.334288709039024\n"
          ],
          "name": "stdout"
        },
        {
          "output_type": "stream",
          "text": [
            "/usr/local/lib/python3.6/dist-packages/ipykernel_launcher.py:28: RuntimeWarning: divide by zero encountered in true_divide\n",
            "/usr/local/lib/python3.6/dist-packages/ipykernel_launcher.py:28: RuntimeWarning: invalid value encountered in subtract\n"
          ],
          "name": "stderr"
        },
        {
          "output_type": "display_data",
          "data": {
            "image/png": "[encoded data removed]",
            "text/plain": [
              "<Figure size 432x288 with 1 Axes>"
            ]
          },
          "metadata": {
            "tags": [],
            "needs_background": "light"
          }
        },
        {
          "output_type": "stream",
          "text": [
            "euler predicted at t=1:  -1.6665711675632235\n",
            "actual value at t=1:  -13.0\n",
            "Error:  -11.333428832436777\n"
          ],
          "name": "stdout"
        },
        {
          "output_type": "stream",
          "text": [
            "/usr/local/lib/python3.6/dist-packages/ipykernel_launcher.py:28: RuntimeWarning: divide by zero encountered in true_divide\n",
            "/usr/local/lib/python3.6/dist-packages/ipykernel_launcher.py:28: RuntimeWarning: invalid value encountered in subtract\n"
          ],
          "name": "stderr"
        },
        {
          "output_type": "display_data",
          "data": {
            "image/png": "[encoded data removed]",
            "text/plain": [
              "<Figure size 432x288 with 1 Axes>"
            ]
          },
          "metadata": {
            "tags": [],
            "needs_background": "light"
          }
        },
        {
          "output_type": "stream",
          "text": [
            "euler predicted at t=1:  -1.66666933942709\n",
            "actual value at t=1:  -13.0\n",
            "Error:  -11.33333066057291\n"
          ],
          "name": "stdout"
        },
        {
          "output_type": "stream",
          "text": [
            "/usr/local/lib/python3.6/dist-packages/ipykernel_launcher.py:28: RuntimeWarning: divide by zero encountered in true_divide\n",
            "/usr/local/lib/python3.6/dist-packages/ipykernel_launcher.py:28: RuntimeWarning: invalid value encountered in subtract\n"
          ],
          "name": "stderr"
        },
        {
          "output_type": "display_data",
          "data": {
            "image/png": "[encoded data removed]",
            "text/plain": [
              "<Figure size 432x288 with 1 Axes>"
            ]
          },
          "metadata": {
            "tags": [],
            "needs_background": "light"
          }
        }
      ]
    },
    {
      "cell_type": "markdown",
      "metadata": {
        "id": "nFp83uqMmNCz"
      },
      "source": [
        ""
      ]
    },
    {
      "cell_type": "code",
      "metadata": {
        "id": "4RnYYG0Hh5k-",
        "colab": {
          "base_uri": "https://localhost:8080/"
        },
        "outputId": "05970b5b-b458-4d01-d6ea-9c374574523e"
      },
      "source": [
        "euler_predicted"
      ],
      "execution_count": 48,
      "outputs": [
        {
          "output_type": "execute_result",
          "data": {
            "text/plain": [
              "[-1.5666738194635887,\n",
              " -1.6570742515306494,\n",
              " -1.6657112909609764,\n",
              " -1.6665711675632235,\n",
              " -1.66666933942709]"
            ]
          },
          "metadata": {
            "tags": []
          },
          "execution_count": 48
        }
      ]
    },
    {
      "cell_type": "code",
      "metadata": {
        "colab": {
          "base_uri": "https://localhost:8080/"
        },
        "id": "BeVDjKINa_my",
        "outputId": "dad585e8-e166-4724-e0c9-9d9ed40e3140"
      },
      "source": [
        "actual_value"
      ],
      "execution_count": 49,
      "outputs": [
        {
          "output_type": "execute_result",
          "data": {
            "text/plain": [
              "[-13.0, -13.0, -13.0, -13.0, -13.0]"
            ]
          },
          "metadata": {
            "tags": []
          },
          "execution_count": 49
        }
      ]
    },
    {
      "cell_type": "code",
      "metadata": {
        "colab": {
          "base_uri": "https://localhost:8080/"
        },
        "id": "zQChklhvbCU5",
        "outputId": "a1afbc65-6440-4dfa-997b-7d4dd83e4c9c"
      },
      "source": [
        "error_value"
      ],
      "execution_count": 50,
      "outputs": [
        {
          "output_type": "execute_result",
          "data": {
            "text/plain": [
              "[-11.433326180536412,\n",
              " -11.342925748469352,\n",
              " -11.334288709039024,\n",
              " -11.333428832436777,\n",
              " -11.33333066057291]"
            ]
          },
          "metadata": {
            "tags": []
          },
          "execution_count": 50
        }
      ]
    },
    {
      "cell_type": "code",
      "metadata": {
        "id": "K8XTwku7cNxA"
      },
      "source": [
        "import pandas as pd"
      ],
      "execution_count": 51,
      "outputs": []
    },
    {
      "cell_type": "code",
      "metadata": {
        "colab": {
          "base_uri": "https://localhost:8080/",
          "height": 198
        },
        "id": "o8JXC-a5cOgQ",
        "outputId": "1cb6f349-810e-4285-dadb-2782b6a0dcb0"
      },
      "source": [
        "df = pd.DataFrame({\"h_value\":euler_h, \"Actual_value\": actual_value, \"Euler_predicted_value\":euler_predicted, \"Error\":error_value})\r\n",
        "df"
      ],
      "execution_count": 52,
      "outputs": [
        {
          "output_type": "execute_result",
          "data": {
            "text/html": [
              "<div>\n",
              "<style scoped>\n",
              "    .dataframe tbody tr th:only-of-type {\n",
              "        vertical-align: middle;\n",
              "    }\n",
              "\n",
              "    .dataframe tbody tr th {\n",
              "        vertical-align: top;\n",
              "    }\n",
              "\n",
              "    .dataframe thead th {\n",
              "        text-align: right;\n",
              "    }\n",
              "</style>\n",
              "<table border=\"1\" class=\"dataframe\">\n",
              "  <thead>\n",
              "    <tr style=\"text-align: right;\">\n",
              "      <th></th>\n",
              "      <th>h_value</th>\n",
              "      <th>Actual_value</th>\n",
              "      <th>Euler_predicted_value</th>\n",
              "      <th>Error</th>\n",
              "    </tr>\n",
              "  </thead>\n",
              "  <tbody>\n",
              "    <tr>\n",
              "      <th>0</th>\n",
              "      <td>0.10000</td>\n",
              "      <td>-13.0</td>\n",
              "      <td>-1.566674</td>\n",
              "      <td>-11.433326</td>\n",
              "    </tr>\n",
              "    <tr>\n",
              "      <th>1</th>\n",
              "      <td>0.01000</td>\n",
              "      <td>-13.0</td>\n",
              "      <td>-1.657074</td>\n",
              "      <td>-11.342926</td>\n",
              "    </tr>\n",
              "    <tr>\n",
              "      <th>2</th>\n",
              "      <td>0.00100</td>\n",
              "      <td>-13.0</td>\n",
              "      <td>-1.665711</td>\n",
              "      <td>-11.334289</td>\n",
              "    </tr>\n",
              "    <tr>\n",
              "      <th>3</th>\n",
              "      <td>0.00010</td>\n",
              "      <td>-13.0</td>\n",
              "      <td>-1.666571</td>\n",
              "      <td>-11.333429</td>\n",
              "    </tr>\n",
              "    <tr>\n",
              "      <th>4</th>\n",
              "      <td>0.00001</td>\n",
              "      <td>-13.0</td>\n",
              "      <td>-1.666669</td>\n",
              "      <td>-11.333331</td>\n",
              "    </tr>\n",
              "  </tbody>\n",
              "</table>\n",
              "</div>"
            ],
            "text/plain": [
              "   h_value  Actual_value  Euler_predicted_value      Error\n",
              "0  0.10000         -13.0              -1.566674 -11.433326\n",
              "1  0.01000         -13.0              -1.657074 -11.342926\n",
              "2  0.00100         -13.0              -1.665711 -11.334289\n",
              "3  0.00010         -13.0              -1.666571 -11.333429\n",
              "4  0.00001         -13.0              -1.666669 -11.333331"
            ]
          },
          "metadata": {
            "tags": []
          },
          "execution_count": 52
        }
      ]
    },
    {
      "cell_type": "code",
      "metadata": {
        "id": "_PW-ZemOcR6-"
      },
      "source": [
        ""
      ],
      "execution_count": 52,
      "outputs": []
    }
  ]
}